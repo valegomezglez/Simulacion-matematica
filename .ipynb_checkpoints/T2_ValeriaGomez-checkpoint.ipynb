{
 "cells": [
  {
   "cell_type": "markdown",
   "metadata": {},
   "source": [
    "<div style=\"text-align: center\">\n",
    "\n",
    "# Instituto Tecnológico y de Estudios Superiores de Occidente\n",
    "\n",
    "## Simulación matemática\n",
    "</div>"
   ]
  },
  {
   "cell_type": "markdown",
   "metadata": {},
   "source": [
    "<img style=\"float:left\" src=\"https://upload.wikimedia.org/wikipedia/commons/thumb/c/c3/Python-logo-notext.svg/1024px-Python-logo-notext.svg.png\" width=\"75px\"/>\n",
    "\n",
    "### Resúmenes de la importancia de Python"
   ]
  },
  {
   "cell_type": "markdown",
   "metadata": {},
   "source": [
    "### Primer resumen\n",
    "\n",
    "Python ha sido considerado uno de los 3 lenguajes de programación más famosos y que ha tenido un mayor crecimiento que cualquier otro lenguaje según el índice de popularidad en Tiobe.\n",
    "\n",
    "Este lenguaje se creó en 1989 por el programador holandés Guido van Rossum, para septiembre ya estaba en el top 3. \n",
    "\n",
    "Generalmente es el primer lenguaje que se enseña en las universidades y uno muy utilizado para el análisis estadístico, programación web, computación científica, entre otras cosas. También es el lenguaje más popular utilizado por los hackers gracias a que la sintaxis es fácil de entender, muchos tutoriales en línea y varias bibliotecas de software de otras personas que pueden ser reutilizadas para un uso malicioso.\n",
    "\n",
    "**Referencia:**\n",
    "\n",
    "Tung, L. (2019). *Programming language of the year? Python is standout in latest rankings*. [Artículo en línea]. Consultado el 31 de agosto de 2020. Extraído de: https://www.zdnet.com/article/programming-language-of-the-year-python-is-standout-in-latest-rankings/"
   ]
  },
  {
   "cell_type": "markdown",
   "metadata": {},
   "source": [
    "### Segundo resumen\n",
    "\n",
    "Guido van Rossum mencionó que él no se propuso crear un lenguaje de programación destinado a ser consumido de manera masiva. Sin embargo, 30 años más tarde este lenguaje ha superado a muchos y ha sido utilizado para que aquellas personas que no lograban entender la codificación ahora lo hicieran. Como dato interesante, la fama de éste ha llevado a que el número de consultas de Python se haya triplicado desde el 2010, teniendo incluso más búsquedas que personas famosas como Kim Kardashian. \n",
    "\n",
    "Las dos ventajas más destacadas de este lenguaje son su flexibilidad y simplicidad; la sintaxis sencilla hace que sea fácil de leer, aprender y compartir. También las personas que lo utilizan frecuentemente han ido subiendo paquetes de software personalizados a repositorios que se encuentran en línea, éstos contienen una gran diversidad de temas y pueden ser instalados e insertados en un programa de Python de manera casi inmediata.\n",
    "\n",
    "Es por éstas características que Python ha sido utilizado por diferentes empresas y para diferentes usos como:\n",
    "\n",
    "+ *Spotify:* Recomendación de canciones\n",
    "+ *Pixar:* Producción de películas \n",
    "+ *Google:* Rastreo de páginas web\n",
    "+ *CIA:* Hackeo\n",
    "\n",
    "Como cuenta con una base de usuarios que crece de manera rápida y tiene una gran variedad de capacidades, se cree que Python tiene el potencial para convertirse en el lenguaje de programación universal. Sin embargo, tiene grandes rivales que será difícil de vencer como lo son Java y C++, porque éstos también cuentan con un gran dominio en diversas áreas. Grady Booch, un científico jefe de software de IBM considera que es poco probable que esto suceda.\n",
    "\n",
    "**Referencia:**\n",
    "\n",
    "The Economist. (2018). *Python is becoming the world’s most popular coding language*. [Artículo en línea]. Consultado el 31 de agosto de 2020. Extraído de: https://www.economist.com/graphic-detail/2018/07/26/python-is-becoming-the-worlds-most-popular-coding-language"
   ]
  }
 ],
 "metadata": {
  "kernelspec": {
   "display_name": "Python 3",
   "language": "python",
   "name": "python3"
  },
  "language_info": {
   "codemirror_mode": {
    "name": "ipython",
    "version": 3
   },
   "file_extension": ".py",
   "mimetype": "text/x-python",
   "name": "python",
   "nbconvert_exporter": "python",
   "pygments_lexer": "ipython3",
   "version": "3.7.4"
  }
 },
 "nbformat": 4,
 "nbformat_minor": 2
}
