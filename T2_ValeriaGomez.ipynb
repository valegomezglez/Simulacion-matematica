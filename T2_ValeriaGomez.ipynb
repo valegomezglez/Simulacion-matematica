{
 "cells": [
  {
   "cell_type": "markdown",
   "metadata": {},
   "source": [
    "<div style=\"text-align: center\">\n",
    "\n",
    "# Instituto Tecnológico y de Estudios Superiores de Occidente\n",
    "\n",
    "## Simulación matemática\n",
    "</div>"
   ]
  },
  {
   "cell_type": "markdown",
   "metadata": {},
   "source": [
    "### Resúmenes de la importancia de Python"
   ]
  },
  {
   "cell_type": "markdown",
   "metadata": {},
   "source": [
    "### Primer resumen\n",
    "\n",
    "Python ha sido considerado uno de los 3 lenguajes de programación más famosos y que ha tenido un mayor crecimiento que cualquier otro lenguaje según el índice de popularidad en Tiobe.\n",
    "\n",
    "Este lenguaje se creó en 1989 por el programador holandés Guido van Rossum, para septiembre ya estaba en el top 3. \n",
    "\n",
    "Generalmente es el primer lenguaje que se enseña en las universidades y uno muy utilizado para el análisis estadístico, programación web, computación científica, entre otras cosas. También es el lenguaje más popular utilizado por los hackers gracias a que la sintaxis es fácil de entender, muchos tutoriales en línea y varias bibliotecas de software de otras personas que pueden ser reutilizadas para un uso malicioso.\n",
    "\n",
    "**Referencia:**\n",
    "\n",
    "Tung, L. (2019). *Programming language of the year? Python is standout in latest rankings*. [Artículo en línea]. Consultado el 22 de agosto de 2020. Extraído de: https://www.zdnet.com/article/programming-language-of-the-year-python-is-standout-in-latest-rankings/"
   ]
  }
 ],
 "metadata": {
  "kernelspec": {
   "display_name": "Python 3",
   "language": "python",
   "name": "python3"
  },
  "language_info": {
   "codemirror_mode": {
    "name": "ipython",
    "version": 3
   },
   "file_extension": ".py",
   "mimetype": "text/x-python",
   "name": "python",
   "nbconvert_exporter": "python",
   "pygments_lexer": "ipython3",
   "version": "3.7.4"
  }
 },
 "nbformat": 4,
 "nbformat_minor": 2
}
